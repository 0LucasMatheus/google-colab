{
  "nbformat": 4,
  "nbformat_minor": 0,
  "metadata": {
    "colab": {
      "provenance": [],
      "authorship_tag": "ABX9TyOUvmVnRj7O9qxIcsM7FqLO",
      "include_colab_link": true
    },
    "kernelspec": {
      "name": "python3",
      "display_name": "Python 3"
    },
    "language_info": {
      "name": "python"
    }
  },
  "cells": [
    {
      "cell_type": "markdown",
      "metadata": {
        "id": "view-in-github",
        "colab_type": "text"
      },
      "source": [
        "<a href=\"https://colab.research.google.com/github/0LucasMatheus/google-colab/blob/main/Atividade_Introdu%C3%A7%C3%A3o_%C3%A0_Programa%C3%A7%C3%A3o_em_Python_no_Google_Colab_08_08.ipynb\" target=\"_parent\"><img src=\"https://colab.research.google.com/assets/colab-badge.svg\" alt=\"Open In Colab\"/></a>"
      ]
    },
    {
      "cell_type": "markdown",
      "source": [
        "# Atividade Introdução à Programação em Python no Google Colab - 08/08\n",
        "\n",
        "Disciplina: Introdução à Inteligência Artificial\n",
        "\n",
        "Tema: Primeiros Passos com Python utilizando Google Colab e ChatGPT\n",
        "Plataforma: Google Colab (Link para o Colab: colab.research.google.com)\n",
        "\n",
        "\n",
        "Objetivo da Atividade\n",
        "\n",
        "* Aprender os conceitos básicos de programação em Python de forma autodidata.\n",
        "* Utilizar o ChatGPT como ferramenta de apoio no aprendizado e na resolução de problemas.\n",
        "* Desenvolver scripts simples em Python utilizando o Google Colab como ambiente de programação.\n",
        "\n",
        "\n",
        "\n"
      ],
      "metadata": {
        "id": "0aG-xDDmf9ox"
      }
    },
    {
      "cell_type": "markdown",
      "source": [
        "2. Explorando o Python com o ChatGPT\n",
        "\n",
        "Nesta atividade, aprendemos Python de forma autodidata utilizando o ChatGPT como suporte."
      ],
      "metadata": {
        "id": "dYxlZRxCgyQN"
      }
    },
    {
      "cell_type": "markdown",
      "source": [
        "  2.1. Primeiros Comandos no Python:"
      ],
      "metadata": {
        "id": "SAn9vNqtwrGB"
      }
    },
    {
      "cell_type": "code",
      "execution_count": null,
      "metadata": {
        "colab": {
          "base_uri": "https://localhost:8080/"
        },
        "id": "kNkoqCXZb_N8",
        "outputId": "d2f74f25-cadc-4778-aa3c-0f87490a6b87"
      },
      "outputs": [
        {
          "output_type": "stream",
          "name": "stdout",
          "text": [
            "Hello, World!\n"
          ]
        }
      ],
      "source": [
        "print(\"Hello, World!\")"
      ]
    },
    {
      "cell_type": "markdown",
      "source": [
        "O comando `print(\"Hello, World!\")` exibe o texto *Hello, World!* na tela.\n",
        "\n",
        "É usado como primeiro programa por iniciantes para testar o ambiente e aprender como mostrar mensagens no Python."
      ],
      "metadata": {
        "id": "e8ykpjcIxIvB"
      }
    },
    {
      "cell_type": "markdown",
      "source": [
        "2.2. Variáveis e Tipos de Dados:"
      ],
      "metadata": {
        "id": "xuQYZZJKywYm"
      }
    },
    {
      "cell_type": "code",
      "source": [
        "nome = \"João\"\n",
        "idade = 21\n",
        "altura = 1.75\n",
        "print(nome, idade, altura)"
      ],
      "metadata": {
        "colab": {
          "base_uri": "https://localhost:8080/"
        },
        "id": "mCMmxxNMyzU2",
        "outputId": "7b1da6c3-247f-4ae7-b4c2-b6e938326f52"
      },
      "execution_count": null,
      "outputs": [
        {
          "output_type": "stream",
          "name": "stdout",
          "text": [
            "João 21 1.75\n"
          ]
        }
      ]
    },
    {
      "cell_type": "markdown",
      "source": [
        "Variáveis guardam valores para serem usados no programa.\n",
        "Em nome = \"João\", o valor \"João\" é do tipo string (texto).\n",
        "idade = 21 é do tipo int (número inteiro) e altura = 1.75 é do tipo float (número decimal)."
      ],
      "metadata": {
        "id": "1qA9GRaCzDDx"
      }
    },
    {
      "cell_type": "markdown",
      "source": [
        "2.3. Operações Aritméticas:"
      ],
      "metadata": {
        "id": "h_XHD6Q4zMG_"
      }
    },
    {
      "cell_type": "code",
      "source": [
        "a = 10 # Define a variável 'a' com o valor 10\n",
        "b = 5  # Define a variável 'b' com o valor 5\n",
        "\n",
        "# Realiza a soma de 'a' e 'b' e armazena o resultado em 'soma'\n",
        "soma = a + b\n",
        "\n",
        "# Realiza a subtração de 'b' de 'a' e armazena o resultado em 'subtracao'\n",
        "subtracao = a - b\n",
        "\n",
        "# Realiza a multiplicação de 'a' por 'b' e armazena o resultado em 'multiplicacao'\n",
        "multiplicacao = a * b\n",
        "\n",
        "# Realiza a divisão de 'a' por 'b' e armazena o resultado em 'divisao'\n",
        "divisao = a / b\n",
        "\n",
        "# Imprime os resultados de todas as operações\n",
        "print(\"Soma:\", soma)\n",
        "print(\"Subtração:\", subtracao)\n",
        "print(\"Multiplicação:\", multiplicacao)\n",
        "print(\"Divisão:\", divisao)"
      ],
      "metadata": {
        "colab": {
          "base_uri": "https://localhost:8080/"
        },
        "id": "UZzHXLRczPKq",
        "outputId": "e033aa53-986c-4635-84c6-cfa9eb7fd326"
      },
      "execution_count": null,
      "outputs": [
        {
          "output_type": "stream",
          "name": "stdout",
          "text": [
            "15 5 50 2.0\n"
          ]
        }
      ]
    },
    {
      "cell_type": "markdown",
      "source": [
        "Operações aritméticas permitem fazer cálculos no Python cada uma usa um simbolo:\n",
        "* soma usa +\n",
        "* subtração usa -\n",
        "* multiplicação usa *\n",
        "* divisão usa /\n",
        "\n",
        "No exemplo, usamos variáveis a e b para calcular e mostrar cada resultado."
      ],
      "metadata": {
        "id": "42cQzpfpzmys"
      }
    },
    {
      "cell_type": "markdown",
      "source": [
        "3. Desafios Práticos\n",
        "\n",
        "Agora que  já exploraramos alguns conceitos básicos, é hora de aplicar o que aprendemos em desafios simples."
      ],
      "metadata": {
        "id": "qMVjF7Nh1aRu"
      }
    },
    {
      "cell_type": "markdown",
      "source": [
        "3.1. Calculadora Básica:"
      ],
      "metadata": {
        "id": "mE6XF_-81jNy"
      }
    },
    {
      "cell_type": "code",
      "source": [
        "# Pede ao usuário para digitar o primeiro número e o converte para float (aceita decimais)\n",
        "num1 = float(input(\"Digite o primeiro número: \"))\n",
        "# Pede ao usuário para digitar o segundo número e o converte para float\n",
        "num2 = float(input(\"Digite o segundo número: \"))\n",
        "# Pede ao usuário para escolher a operação desejada (+, -, *, /)\n",
        "operacao = input(\"Escolha a operação (+, -, *, /): \")\n",
        "\n",
        "# Verifica qual operação foi escolhida usando estruturas condicionais (if, elif, else)\n",
        "if operacao == '+':\n",
        "    # Se for adição, soma os dois números\n",
        "    resultado = num1 + num2\n",
        "    # Imprime o resultado formatado\n",
        "    print(f\"Resultado: {resultado}\")\n",
        "elif operacao == '-':\n",
        "    # Se for subtração, subtrai o segundo número do primeiro\n",
        "    resultado = num1 - num2\n",
        "    # Imprime o resultado formatado\n",
        "    print(f\"Resultado: {resultado}\")\n",
        "elif operacao == '*':\n",
        "    # Se for multiplicação, multiplica os dois números\n",
        "    resultado = num1 * num2\n",
        "    # Imprime o resultado formatado\n",
        "    print(f\"Resultado: {resultado}\")\n",
        "elif operacao == '/':\n",
        "    # Se for divisão, verifica se o segundo número não é zero para evitar erro\n",
        "    if num2 != 0:\n",
        "        # Se não for zero, realiza a divisão\n",
        "        resultado = num1 / num2\n",
        "        # Imprime o resultado formatado\n",
        "        print(f\"Resultado: {resultado}\")\n",
        "    else:\n",
        "        # Se for divisão por zero, exibe uma mensagem de erro\n",
        "        print(\"Erro: Divisão por zero não é permitida.\")\n",
        "else:\n",
        "    # Se a operação escolhida não for uma das válidas, exibe uma mensagem de erro\n",
        "    print(\"Operação inválida.\")"
      ],
      "metadata": {
        "colab": {
          "base_uri": "https://localhost:8080/"
        },
        "id": "mzfhAMbD1p7c",
        "outputId": "ffbaad46-db1c-4fc6-f00f-cd491d0f45c5"
      },
      "execution_count": null,
      "outputs": [
        {
          "output_type": "stream",
          "name": "stdout",
          "text": [
            "Digite o primeiro número: 12\n",
            "Digite o segundo número: 8\n",
            "Escolha a operação (+, -, *, /): +\n",
            "Resultado: 20.0\n"
          ]
        }
      ]
    },
    {
      "cell_type": "markdown",
      "source": [
        "O programa pede dois números e a operação desejada.\n",
        "Com if e elif, ele verifica qual operação foi escolhida (+, -, *, /) e calcula o resultado.\n",
        "Se for divisão, ele impede divisão por zero."
      ],
      "metadata": {
        "id": "O2HbEFiQ2tl_"
      }
    },
    {
      "cell_type": "markdown",
      "source": [
        "3.2. Conversor de Temperatura:"
      ],
      "metadata": {
        "id": "g5KhrSqQ27x2"
      }
    },
    {
      "cell_type": "code",
      "source": [
        "# Pede ao usuário para escolher o tipo de conversão (Celsius para Fahrenheit ou Fahrenheit para Celsius)\n",
        "opcao = input(\"Escolha a opcao de converter: \\n 1- Celsius -> Fahrenheit \\n ou \\n 2- Fahrenheit -> Celsius: \\n\")\n",
        "\n",
        "# Verifica qual opção foi escolhida\n",
        "if opcao == \"1\":\n",
        "    # Se a opção for 1, pede a temperatura em Celsius\n",
        "    celsius = float(input(\"Digite a temperatura em Celsius: \"))\n",
        "    # Aplica a fórmula de conversão de Celsius para Fahrenheit\n",
        "    fahrenheit = (celsius * 9/5) + 32\n",
        "    # Imprime o resultado formatado com duas casas decimais\n",
        "    print(f\"{celsius}°C = {fahrenheit:.2f}°F\")\n",
        "elif opcao == \"2\":\n",
        "    # Se a opção for 2, pede a temperatura em Fahrenheit\n",
        "    fahrenheit = float(input(\"Digite a temperatura em Fahrenheit: \"))\n",
        "    # Aplica a fórmula de conversão de Fahrenheit para Celsius\n",
        "    celsius = (fahrenheit - 32) * 5/9\n",
        "    # Imprime o resultado formatado com duas casas decimais\n",
        "    print(f\"{fahrenheit}°F = {celsius:.2f}°C\")\n",
        "else:\n",
        "    # Se a opção for inválida, exibe uma mensagem de erro\n",
        "    print(\"Opção inválida.\")"
      ],
      "metadata": {
        "colab": {
          "base_uri": "https://localhost:8080/"
        },
        "id": "tLN-RFqF3EuC",
        "outputId": "01c1d1ab-8708-4d92-be44-20872a59166a"
      },
      "execution_count": null,
      "outputs": [
        {
          "output_type": "stream",
          "name": "stdout",
          "text": [
            "Escolha a opcao de converter: \n",
            " 1- Celsius -> Fahrenheit \n",
            " ou \n",
            " 2- Fahrenheit -> Celsius: \n",
            "1\n",
            "Digite a temperatura em Celsius: 11\n",
            "11.0°C = 51.80°F\n"
          ]
        }
      ]
    },
    {
      "cell_type": "markdown",
      "source": [
        "Explicação curta\n",
        "\n",
        "O programa pergunta o tipo de conversão.\n",
        "\n",
        "Se for Celsius → Fahrenheit, aplica a fórmula `(C × 9/5) + 32`.\n",
        "\n",
        "Se for Fahrenheit → Celsius, aplica `(F - 32) × 5/9`."
      ],
      "metadata": {
        "id": "QJLG2X7f4j1w"
      }
    },
    {
      "cell_type": "markdown",
      "source": [
        "3.3. Contador de Palavras:"
      ],
      "metadata": {
        "id": "TBZnlevF4021"
      }
    },
    {
      "cell_type": "code",
      "source": [
        "# Pede ao usuário para digitar uma frase\n",
        "string=input(\"digite uma frase: \\n\")\n",
        "# Divide a frase em palavras usando o espaço como separador\n",
        "# Usa len() para contar o número de palavras na lista resultante\n",
        "# Imprime o resultado usando uma f-string\n",
        "print(f\"A frase tem {len(string.split())} palavras\")"
      ],
      "metadata": {
        "colab": {
          "base_uri": "https://localhost:8080/"
        },
        "id": "9rxDZN6r45Yb",
        "outputId": "5efc8e7c-f83c-4eb9-c26b-077ccfa62003"
      },
      "execution_count": null,
      "outputs": [
        {
          "output_type": "stream",
          "name": "stdout",
          "text": [
            "digite uma frase: \n",
            "espetinho de escorpiao\n",
            "A frase tem 3 palavras\n"
          ]
        }
      ]
    },
    {
      "cell_type": "markdown",
      "source": [
        "O programa recebe uma frase do usuário como uma string.\n",
        "Usamos o método `.split()` para separar a frase em uma lista de palavras, dividindo pelos espaços.\n",
        "Depois, usamos `len()` para contar quantas palavras existem nessa lista.\n",
        "Assim, conseguimos mostrar ao usuário o número de palavras na frase."
      ],
      "metadata": {
        "id": "FAKSJqhg6I7R"
      }
    },
    {
      "cell_type": "markdown",
      "source": [
        "3.4. Aplicativo mais complexo - To-do List"
      ],
      "metadata": {
        "id": "xK0QirVB6eR0"
      }
    },
    {
      "cell_type": "code",
      "source": [
        "# Inicializa uma lista vazia para armazenar as tarefas. Cada tarefa será um dicionário.\n",
        "tarefas = []\n",
        "\n",
        "# Loop principal do programa que continua executando até que o usuário escolha sair\n",
        "while True:\n",
        "    # Exibe o menu de opções para o usuário\n",
        "    print(\"\\n--- Menu da Lista de Tarefas ---\")\n",
        "    print(\"1. Adicionar tarefa\")\n",
        "    print(\"2. Visualizar tarefas\")\n",
        "    print(\"3. Marcar tarefa como concluída\")\n",
        "    print(\"4. Remover tarefa\")\n",
        "    print(\"5. Sair\")\n",
        "\n",
        "    # Pede ao usuário para escolher uma opção\n",
        "    escolha = input(\"Escolha uma opção: \")\n",
        "\n",
        "    # Verifica a opção escolhida pelo usuário\n",
        "    if escolha == '1':\n",
        "        # Opção para adicionar tarefa\n",
        "        tarefa = input(\"Digite a nova tarefa: \")\n",
        "        # Adiciona a nova tarefa como um dicionário à lista 'tarefas'\n",
        "        # 'concluida': False indica que a tarefa ainda não foi completada\n",
        "        tarefas.append({\"tarefa\": tarefa, \"concluida\": False})\n",
        "        print(\"Tarefa adicionada!\")\n",
        "\n",
        "    elif escolha == '2':\n",
        "        # Opção para visualizar tarefas\n",
        "        if not tarefas:\n",
        "            # Verifica se a lista de tarefas está vazia\n",
        "            print(\"A lista de tarefas está vazia.\")\n",
        "        else:\n",
        "            # Se houver tarefas, imprime o cabeçalho\n",
        "            print(\"\\n--- Suas Tarefas ---\")\n",
        "            # Itera sobre a lista de tarefas com o índice (i) e o item (tarefa)\n",
        "            for i, item in enumerate(tarefas):\n",
        "                # Define o status visual da tarefa: '✓' se concluída, ' ' se não concluída\n",
        "                status = \"✓\" if item[\"concluida\"] else \" \"\n",
        "                # Imprime o número da tarefa (i+1), o status e o texto da tarefa\n",
        "                print(f\"{i + 1}. [{status}] {item['tarefa']}\")\n",
        "\n",
        "    elif escolha == '3':\n",
        "        # Opção para marcar tarefa como concluída\n",
        "        if not tarefas:\n",
        "            # Verifica se a lista de tarefas está vazia\n",
        "            print(\"A lista de tarefas está vazia.\")\n",
        "        else:\n",
        "            try:\n",
        "                # Pede o número da tarefa a ser marcada e converte para inteiro\n",
        "                # Subtrai 1 para obter o índice correto na lista (listas são baseadas em 0)\n",
        "                indice = int(input(\"Digite o número da tarefa a marcar como concluída: \")) - 1\n",
        "                # Verifica se o índice digitado é válido (dentro do intervalo da lista)\n",
        "                if 0 <= indice < len(tarefas):\n",
        "                    # Marca a tarefa no índice especificado como concluída (muda o valor de 'concluida' para True)\n",
        "                    tarefas[indice][\"concluida\"] = True\n",
        "                    print(\"Tarefa marcada como concluída!\")\n",
        "                else:\n",
        "                    # Mensagem de erro se o número da tarefa for inválido\n",
        "                    print(\"Número de tarefa inválido.\")\n",
        "            except ValueError:\n",
        "                # Trata o erro se o usuário digitar algo que não seja um número\n",
        "                print(\"Entrada inválida. Digite um número.\")\n",
        "\n",
        "    elif escolha == '4':\n",
        "        # Opção para remover tarefa\n",
        "        if not tarefas:\n",
        "            # Verifica se a lista de tarefas está vazia\n",
        "            print(\"A lista de tarefas está vazia.\")\n",
        "        else:\n",
        "            try:\n",
        "                # Pede o número da tarefa a ser removida e converte para inteiro\n",
        "                # Subtrai 1 para obter o índice correto na lista\n",
        "                indice = int(input(\"Digite o número da tarefa a remover: \")) - 1\n",
        "                # Verifica se o índice digitado é válido\n",
        "                if 0 <= indice < len(tarefas):\n",
        "                    # Remove a tarefa no índice especificado e armazena a tarefa removida\n",
        "                    tarefa_removida = tarefas.pop(indice)\n",
        "                    # Imprime uma mensagem confirmando a remoção e mostrando a tarefa removida\n",
        "                    print(f\"Tarefa '{tarefa_removida['tarefa']}' removida.\")\n",
        "                else:\n",
        "                    # Mensagem de erro se o número da tarefa for inválido\n",
        "                    print(\"Número de tarefa inválido.\")\n",
        "            except ValueError:\n",
        "                # Trata o erro se o usuário digitar algo que não seja um número\n",
        "                print(\"Entrada inválida. Digite um número.\")\n",
        "\n",
        "    elif escolha == '5':\n",
        "        # Opção para sair do programa\n",
        "        print(\"Saindo do programa. Até mais!\")\n",
        "        break # Sai do loop 'while True', encerrando o programa\n",
        "\n",
        "    else:\n",
        "        # Mensagem para opções inválidas\n",
        "        print(\"Opção inválida. Tente novamente.\")"
      ],
      "metadata": {
        "colab": {
          "base_uri": "https://localhost:8080/"
        },
        "id": "sq_ZegYh7JuV",
        "outputId": "5aadc3bb-1f5a-49f5-de7d-b6eb35326422"
      },
      "execution_count": 1,
      "outputs": [
        {
          "output_type": "stream",
          "name": "stdout",
          "text": [
            "\n",
            "--- Menu da Lista de Tarefas ---\n",
            "1. Adicionar tarefa\n",
            "2. Visualizar tarefas\n",
            "3. Marcar tarefa como concluída\n",
            "4. Remover tarefa\n",
            "5. Sair\n",
            "Escolha uma opção: 1\n",
            "Digite a nova tarefa: lavar louça \n",
            "Tarefa adicionada!\n",
            "\n",
            "--- Menu da Lista de Tarefas ---\n",
            "1. Adicionar tarefa\n",
            "2. Visualizar tarefas\n",
            "3. Marcar tarefa como concluída\n",
            "4. Remover tarefa\n",
            "5. Sair\n",
            "Escolha uma opção: 2\n",
            "\n",
            "--- Suas Tarefas ---\n",
            "1. [ ] lavar louça \n",
            "\n",
            "--- Menu da Lista de Tarefas ---\n",
            "1. Adicionar tarefa\n",
            "2. Visualizar tarefas\n",
            "3. Marcar tarefa como concluída\n",
            "4. Remover tarefa\n",
            "5. Sair\n",
            "Escolha uma opção: 3\n",
            "Digite o número da tarefa a marcar como concluída: 1\n",
            "Tarefa marcada como concluída!\n",
            "\n",
            "--- Menu da Lista de Tarefas ---\n",
            "1. Adicionar tarefa\n",
            "2. Visualizar tarefas\n",
            "3. Marcar tarefa como concluída\n",
            "4. Remover tarefa\n",
            "5. Sair\n",
            "Escolha uma opção: 2\n",
            "\n",
            "--- Suas Tarefas ---\n",
            "1. [✓] lavar louça \n",
            "\n",
            "--- Menu da Lista de Tarefas ---\n",
            "1. Adicionar tarefa\n",
            "2. Visualizar tarefas\n",
            "3. Marcar tarefa como concluída\n",
            "4. Remover tarefa\n",
            "5. Sair\n",
            "Escolha uma opção: 5\n",
            "Saindo do programa. Até mais!\n"
          ]
        }
      ]
    },
    {
      "cell_type": "markdown",
      "source": [
        "O programa To-Do List permite que o usuário gerencie uma lista de tarefas simples.\n",
        "Ele deve permitir: adicionar tarefas, visualizar todas as tarefas, marcar tarefas como concluídas e remover tarefas.\n",
        "Para isso, usamos uma lista (array) para guardar as tarefas, que são strings.\n",
        "Com comandos de entrada (input), o usuário escolhe a ação que deseja fazer, e o programa executa com base nisso usando estruturas condicionais (if, elif, else).\n",
        "Esse projeto ajuda a entender melhor listas, loops e como interagir com o usuário de forma dinâmica."
      ],
      "metadata": {
        "id": "ON5mutd87H4Q"
      }
    },
    {
      "cell_type": "markdown",
      "source": [
        "4. Reflexão sobre o Uso do ChatGPT"
      ],
      "metadata": {
        "id": "kZx1WWL78WXs"
      }
    },
    {
      "cell_type": "markdown",
      "source": [
        "O ChatGPT foi util no aprendizado da sintaxe do Python, além de me ajudar a entender como tratar exceções. Foi fácil sair do “zero” com essa assistência.\n",
        "O maior desafio foi o exercício 3.4, mas, mesmo assim, com o auxílio da IA, o processo se tornou tranquilo graças aos autocompletes eficazes e precisos.\n",
        "O ChatGPT me ajudou principalmente na formulação do código, validando minha lógica e confirmando com a sintaxe estava correta"
      ],
      "metadata": {
        "id": "Jl3BwAWm8aYX"
      }
    },
    {
      "cell_type": "markdown",
      "source": [
        "link para o GitHub: https://github.com/0LucasMatheus/google-colab"
      ],
      "metadata": {
        "id": "9eaKboIZyW-t"
      }
    }
  ]
}